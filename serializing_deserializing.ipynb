{
 "cells": [
  {
   "cell_type": "markdown",
   "id": "3cab47b0",
   "metadata": {},
   "source": [
    "# Serializing and Deserializing in Python using scikit-learn\n",
    "---\n",
    "**Three ways:**\n",
    "\n",
    "**1.** JSON\n",
    "\n",
    "**2.** pickle\n",
    "\n",
    "**3.** joblib"
   ]
  },
  {
   "cell_type": "code",
   "execution_count": 1,
   "id": "1cedee9f",
   "metadata": {},
   "outputs": [],
   "source": [
    "import json\n",
    "import pickle\n",
    "import joblib\n",
    "\n",
    "import pandas as pd\n",
    "import numpy as np\n",
    "from pathlib import Path\n",
    "\n",
    "from sklearn.linear_model import LinearRegression\n",
    "from sklearn.ensemble import GradientBoostingRegressor\n",
    "\n",
    "from sklearn.datasets import load_boston\n",
    "from sklearn.model_selection import train_test_split\n",
    "from sklearn.metrics import r2_score"
   ]
  },
  {
   "cell_type": "code",
   "execution_count": 2,
   "id": "9f62bc35",
   "metadata": {},
   "outputs": [
    {
     "name": "stdout",
     "output_type": "stream",
     "text": [
      "(506, 13)\n",
      "(506,)\n"
     ]
    }
   ],
   "source": [
    "X, y = load_boston(return_X_y=True)\n",
    "print(X.shape)\n",
    "print(y.shape)\n",
    "\n",
    "assert X.shape == (506, 13)\n",
    "assert y.shape == (506,)"
   ]
  },
  {
   "cell_type": "code",
   "execution_count": 3,
   "id": "59d5ee42",
   "metadata": {},
   "outputs": [],
   "source": [
    "X_train, X_test, y_train, y_test = train_test_split(X, y, test_size=0.30, random_state=28)"
   ]
  },
  {
   "cell_type": "code",
   "execution_count": 4,
   "id": "35a3dd2d",
   "metadata": {},
   "outputs": [
    {
     "name": "stdout",
     "output_type": "stream",
     "text": [
      "(354, 13)\n",
      "(152, 13)\n",
      "(354,)\n",
      "(152,)\n"
     ]
    }
   ],
   "source": [
    "print(X_train.shape)\n",
    "print(X_test.shape)\n",
    "print(y_train.shape)\n",
    "print(y_test.shape)\n",
    "\n",
    "assert X_train.shape == (354, 13)\n",
    "assert X_test.shape == (152, 13)\n",
    "assert y_train.shape == (354,)\n",
    "assert y_test.shape == (152,)"
   ]
  },
  {
   "cell_type": "code",
   "execution_count": 5,
   "id": "75619d38",
   "metadata": {},
   "outputs": [
    {
     "name": "stdout",
     "output_type": "stream",
     "text": [
      "Linear Model\n",
      "Test score:  0.682129695744708\n",
      "------------------------------\n",
      "Tree Model\n",
      "Test score:  0.8180312663162715\n"
     ]
    }
   ],
   "source": [
    "print(\"Linear Model\")\n",
    "linear_model = LinearRegression().fit(X_train, y_train)\n",
    "y_pred_test = linear_model.predict(X_test)\n",
    "print(\"Test score: \", r2_score(y_test, y_pred_test))\n",
    "\n",
    "print(\"-\"*30)\n",
    "\n",
    "print(\"Tree Model\")\n",
    "tree_model = GradientBoostingRegressor().fit(X_train, y_train)\n",
    "y_pred_test = tree_model.predict(X_test)\n",
    "print(\"Test score: \", r2_score(y_test, y_pred_test))"
   ]
  },
  {
   "cell_type": "markdown",
   "id": "62fa9da2",
   "metadata": {},
   "source": [
    "## 1. JSON Format"
   ]
  },
  {
   "cell_type": "code",
   "execution_count": 6,
   "id": "b7e6d42a",
   "metadata": {},
   "outputs": [
    {
     "name": "stdout",
     "output_type": "stream",
     "text": [
      "Coefficient parameters: [-9.35992075e-02  3.92793258e-02  1.92925522e-02  2.50621955e+00\n",
      " -1.77097508e+01  4.32898476e+00  3.29173281e-03 -1.24431560e+00\n",
      "  3.02390932e-01 -1.15848174e-02 -9.81842087e-01  1.00781696e-02\n",
      " -4.77152997e-01]\n",
      "\n",
      "Intercept:  31.67177332226347\n"
     ]
    }
   ],
   "source": [
    "print(\"Coefficient parameters:\", linear_model.coef_)\n",
    "print(\"\\nIntercept: \",linear_model.intercept_)"
   ]
  },
  {
   "cell_type": "code",
   "execution_count": 7,
   "id": "22dd6b37",
   "metadata": {},
   "outputs": [
    {
     "name": "stdout",
     "output_type": "stream",
     "text": [
      "{\n",
      "    \"coef\": [\n",
      "        -0.0935992074979253,\n",
      "        0.03927932575945889,\n",
      "        0.01929255223927326,\n",
      "        2.506219545038105,\n",
      "        -17.70975084096846,\n",
      "        4.328984755094672,\n",
      "        0.0032917328144949935,\n",
      "        -1.2443156002329776,\n",
      "        0.3023909315161962,\n",
      "        -0.011584817400845417,\n",
      "        -0.9818420869612504,\n",
      "        0.010078169637325596,\n",
      "        -0.47715299685209916\n",
      "    ],\n",
      "    \"intercept\": 31.67177332226347\n",
      "}\n"
     ]
    }
   ],
   "source": [
    "model_param = {}\n",
    "\n",
    "model_param['coef'] = list(linear_model.coef_)\n",
    "model_param['intercept'] = linear_model.intercept_.tolist()\n",
    "\n",
    "json_txt = json.dumps(model_param, indent=4)\n",
    "print(json_txt)"
   ]
  },
  {
   "cell_type": "code",
   "execution_count": 8,
   "id": "96a7a952",
   "metadata": {},
   "outputs": [],
   "source": [
    "Path(\"models\").mkdir(parents=True, exist_ok=True)\n",
    "with open('models/regressor_param.txt', 'w') as file:\n",
    "    \n",
    "    file.write(json_txt)"
   ]
  },
  {
   "cell_type": "code",
   "execution_count": 9,
   "id": "e74207e0",
   "metadata": {},
   "outputs": [],
   "source": [
    "with open('models/regressor_param.txt', 'r') as file:\n",
    "    \n",
    "    json_text=json.load(file)"
   ]
  },
  {
   "cell_type": "code",
   "execution_count": 10,
   "id": "6492ec6c",
   "metadata": {},
   "outputs": [],
   "source": [
    "json_model = LinearRegression()\n",
    "\n",
    "json_model.coef_ = np.array(json_text['coef'])\n",
    "json_model.intercept_ = np.array(json_text['intercept'])"
   ]
  },
  {
   "cell_type": "code",
   "execution_count": 11,
   "id": "345d089d",
   "metadata": {},
   "outputs": [
    {
     "name": "stdout",
     "output_type": "stream",
     "text": [
      "Test score:  0.682129695744708\n"
     ]
    }
   ],
   "source": [
    "y_pred_test = json_model.predict(X_test)\n",
    "\n",
    "print(\"Test score: \", r2_score(y_test, y_pred_test))"
   ]
  },
  {
   "cell_type": "markdown",
   "id": "0068d8d0",
   "metadata": {},
   "source": [
    "## 2. pickle Format"
   ]
  },
  {
   "cell_type": "code",
   "execution_count": 12,
   "id": "93a63c8d",
   "metadata": {},
   "outputs": [],
   "source": [
    "Path(\"models\").mkdir(parents=True, exist_ok=True)\n",
    "pickle.dump(linear_model, open('models/model.pkl', 'wb'))"
   ]
  },
  {
   "cell_type": "code",
   "execution_count": 13,
   "id": "afc49691",
   "metadata": {},
   "outputs": [],
   "source": [
    "pickle_model = pickle.load(open('models/model.pkl', 'rb'))"
   ]
  },
  {
   "cell_type": "code",
   "execution_count": 14,
   "id": "89e4ed47",
   "metadata": {
    "scrolled": true
   },
   "outputs": [
    {
     "name": "stdout",
     "output_type": "stream",
     "text": [
      "Test score:  0.682129695744708\n"
     ]
    }
   ],
   "source": [
    "y_pred_test = pickle_model.predict(X_test)\n",
    "\n",
    "print(\"Test score: \", r2_score(y_test, y_pred_test))"
   ]
  },
  {
   "cell_type": "markdown",
   "id": "45b2cefc",
   "metadata": {},
   "source": [
    "## 3. joblib Format"
   ]
  },
  {
   "cell_type": "code",
   "execution_count": 15,
   "id": "19f29e02",
   "metadata": {},
   "outputs": [
    {
     "data": {
      "text/plain": [
       "['models/model.joblib']"
      ]
     },
     "execution_count": 15,
     "metadata": {},
     "output_type": "execute_result"
    }
   ],
   "source": [
    "Path(\"models\").mkdir(parents=True, exist_ok=True)\n",
    "\n",
    "filename = 'models/model.joblib'\n",
    "joblib.dump(tree_model, filename)"
   ]
  },
  {
   "cell_type": "code",
   "execution_count": 16,
   "id": "5c69044d",
   "metadata": {},
   "outputs": [],
   "source": [
    "joblib_model = joblib.load(filename)"
   ]
  },
  {
   "cell_type": "code",
   "execution_count": 17,
   "id": "30b06e28",
   "metadata": {},
   "outputs": [
    {
     "name": "stdout",
     "output_type": "stream",
     "text": [
      "Test score:  0.8180312663162715\n"
     ]
    }
   ],
   "source": [
    "y_pred_test = joblib_model.predict(X_test)\n",
    "\n",
    "print(\"Test score: \", r2_score(y_test, y_pred_test))"
   ]
  }
 ],
 "metadata": {
  "kernelspec": {
   "display_name": "Python 3",
   "language": "python",
   "name": "python3"
  },
  "language_info": {
   "codemirror_mode": {
    "name": "ipython",
    "version": 3
   },
   "file_extension": ".py",
   "mimetype": "text/x-python",
   "name": "python",
   "nbconvert_exporter": "python",
   "pygments_lexer": "ipython3",
   "version": "3.7.3"
  }
 },
 "nbformat": 4,
 "nbformat_minor": 5
}
